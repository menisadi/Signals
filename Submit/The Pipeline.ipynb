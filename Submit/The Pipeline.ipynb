{
 "cells": [
  {
   "cell_type": "markdown",
   "id": "c6eb9aae",
   "metadata": {},
   "source": [
    "# Signals Prediction"
   ]
  },
  {
   "cell_type": "markdown",
   "id": "93971b0d",
   "metadata": {},
   "source": [
    "## Imports"
   ]
  },
  {
   "cell_type": "code",
   "execution_count": 6,
   "id": "e4088979",
   "metadata": {},
   "outputs": [],
   "source": [
    "import numpy as np\n",
    "import pandas as pd\n",
    "from sklearn.model_selection import train_test_split, RandomizedSearchCV\n",
    "from sklearn.ensemble import RandomForestRegressor\n",
    "from sklearn.metrics.pairwise import haversine_distances\n",
    "from sklearn.metrics import mean_squared_error, mean_absolute_error\n",
    "from sklearn.preprocessing import MinMaxScaler, FunctionTransformer"
   ]
  },
  {
   "cell_type": "markdown",
   "id": "7813d14c",
   "metadata": {},
   "source": [
    "## Process the data"
   ]
  },
  {
   "cell_type": "code",
   "execution_count": 7,
   "id": "e0ec88e7",
   "metadata": {},
   "outputs": [],
   "source": [
    "signals_data = pd.read_csv(\"../Data/cellular_signals.csv\")\n",
    "antennas_data = pd.read_csv(\"../Data/antennas.csv\")"
   ]
  },
  {
   "cell_type": "code",
   "execution_count": 9,
   "id": "54b893e1",
   "metadata": {},
   "outputs": [],
   "source": [
    "# Select on ly the coordinates\n",
    "signals_locations = signals_data[['Latitude', 'Longitude']]\n",
    "antennas_locations = antennas_data[['Latitude', 'Longitude']]\n",
    "\n",
    "# Calculate the geodesic pairwise distances between cellphone and antennas\n",
    "distances = haversine_distances(signals_locations.values, antennas_locations.values)\n",
    "\n",
    "# For each type on antenna \n",
    "# slice the distances matrix to keep only columns which correspond to that type\n",
    "# Then find the minimal distance of each signal to that antenna type\n",
    "types = antennas_data.type.unique()\n",
    "\n",
    "for type in types:\n",
    "    type_distances = distances[:,(antennas_data['type']==type).to_numpy()]\n",
    "    distance_to_closest_antenna_of_type =  np.min(type_distances, axis=1)*1000\n",
    "    signals_data[f'closest_{type}'] =  distance_to_closest_antenna_of_type"
   ]
  },
  {
   "cell_type": "code",
   "execution_count": 10,
   "id": "65b9c328",
   "metadata": {},
   "outputs": [],
   "source": [
    "# We only use those four \"distance to each type\" columns \n",
    "# as they encapulate all the relevant knowledge on each siganl\n",
    "X = signals_data[['closest_D','closest_A','closest_C','closest_B']]\n",
    "y = signals_data['signal']"
   ]
  },
  {
   "cell_type": "code",
   "execution_count": 11,
   "id": "94fcc536",
   "metadata": {},
   "outputs": [],
   "source": [
    "# Split the data into test and validation sets\n",
    "X_train, X_test, y_train, y_test = train_test_split(X, y, test_size=0.2)"
   ]
  },
  {
   "cell_type": "code",
   "execution_count": 12,
   "id": "412d9bc3",
   "metadata": {},
   "outputs": [
    {
     "data": {
      "text/plain": [
       "array([[0.63333242, 0.62166719, 0.21646657, 0.95381082],\n",
       "       [0.19699074, 0.19076119, 0.68962301, 0.27895352],\n",
       "       [0.11608457, 0.32147197, 0.33565451, 0.16631385],\n",
       "       ...,\n",
       "       [0.14073098, 0.36164434, 0.47449235, 0.31147218],\n",
       "       [0.40820885, 0.50750139, 0.55930726, 0.2387912 ],\n",
       "       [0.10819288, 0.49983612, 0.4875328 , 0.06214457]])"
      ]
     },
     "execution_count": 12,
     "metadata": {},
     "output_type": "execute_result"
    }
   ],
   "source": [
    "# Scale the distances\n",
    "scaler = MinMaxScaler()\n",
    "scaler.fit(X_train)\n",
    "scaler.transform(X_train)\n",
    "scaler.transform(X_test)"
   ]
  },
  {
   "cell_type": "markdown",
   "id": "db519ee0",
   "metadata": {},
   "source": [
    "## Train the model"
   ]
  },
  {
   "cell_type": "code",
   "execution_count": 13,
   "id": "6ee5ee23",
   "metadata": {},
   "outputs": [],
   "source": [
    "# Create the parameter grid for a random search \n",
    "random_grid = {\n",
    "    'bootstrap': [True],\n",
    "    'max_depth': range(1,25),\n",
    "    'max_features': [1.0, 'sqrt'],\n",
    "    'min_samples_leaf': range(1,5),\n",
    "    'min_samples_split': [2, 4, 8],\n",
    "    'n_estimators': [50, 100, 200, 400, 800]\n",
    "}"
   ]
  },
  {
   "cell_type": "code",
   "execution_count": 14,
   "id": "28ad6677",
   "metadata": {},
   "outputs": [
    {
     "name": "stdout",
     "output_type": "stream",
     "text": [
      "Fitting 5 folds for each of 10 candidates, totalling 50 fits\n"
     ]
    },
    {
     "data": {
      "text/html": [
       "<style>#sk-container-id-1 {color: black;background-color: white;}#sk-container-id-1 pre{padding: 0;}#sk-container-id-1 div.sk-toggleable {background-color: white;}#sk-container-id-1 label.sk-toggleable__label {cursor: pointer;display: block;width: 100%;margin-bottom: 0;padding: 0.3em;box-sizing: border-box;text-align: center;}#sk-container-id-1 label.sk-toggleable__label-arrow:before {content: \"▸\";float: left;margin-right: 0.25em;color: #696969;}#sk-container-id-1 label.sk-toggleable__label-arrow:hover:before {color: black;}#sk-container-id-1 div.sk-estimator:hover label.sk-toggleable__label-arrow:before {color: black;}#sk-container-id-1 div.sk-toggleable__content {max-height: 0;max-width: 0;overflow: hidden;text-align: left;background-color: #f0f8ff;}#sk-container-id-1 div.sk-toggleable__content pre {margin: 0.2em;color: black;border-radius: 0.25em;background-color: #f0f8ff;}#sk-container-id-1 input.sk-toggleable__control:checked~div.sk-toggleable__content {max-height: 200px;max-width: 100%;overflow: auto;}#sk-container-id-1 input.sk-toggleable__control:checked~label.sk-toggleable__label-arrow:before {content: \"▾\";}#sk-container-id-1 div.sk-estimator input.sk-toggleable__control:checked~label.sk-toggleable__label {background-color: #d4ebff;}#sk-container-id-1 div.sk-label input.sk-toggleable__control:checked~label.sk-toggleable__label {background-color: #d4ebff;}#sk-container-id-1 input.sk-hidden--visually {border: 0;clip: rect(1px 1px 1px 1px);clip: rect(1px, 1px, 1px, 1px);height: 1px;margin: -1px;overflow: hidden;padding: 0;position: absolute;width: 1px;}#sk-container-id-1 div.sk-estimator {font-family: monospace;background-color: #f0f8ff;border: 1px dotted black;border-radius: 0.25em;box-sizing: border-box;margin-bottom: 0.5em;}#sk-container-id-1 div.sk-estimator:hover {background-color: #d4ebff;}#sk-container-id-1 div.sk-parallel-item::after {content: \"\";width: 100%;border-bottom: 1px solid gray;flex-grow: 1;}#sk-container-id-1 div.sk-label:hover label.sk-toggleable__label {background-color: #d4ebff;}#sk-container-id-1 div.sk-serial::before {content: \"\";position: absolute;border-left: 1px solid gray;box-sizing: border-box;top: 0;bottom: 0;left: 50%;z-index: 0;}#sk-container-id-1 div.sk-serial {display: flex;flex-direction: column;align-items: center;background-color: white;padding-right: 0.2em;padding-left: 0.2em;position: relative;}#sk-container-id-1 div.sk-item {position: relative;z-index: 1;}#sk-container-id-1 div.sk-parallel {display: flex;align-items: stretch;justify-content: center;background-color: white;position: relative;}#sk-container-id-1 div.sk-item::before, #sk-container-id-1 div.sk-parallel-item::before {content: \"\";position: absolute;border-left: 1px solid gray;box-sizing: border-box;top: 0;bottom: 0;left: 50%;z-index: -1;}#sk-container-id-1 div.sk-parallel-item {display: flex;flex-direction: column;z-index: 1;position: relative;background-color: white;}#sk-container-id-1 div.sk-parallel-item:first-child::after {align-self: flex-end;width: 50%;}#sk-container-id-1 div.sk-parallel-item:last-child::after {align-self: flex-start;width: 50%;}#sk-container-id-1 div.sk-parallel-item:only-child::after {width: 0;}#sk-container-id-1 div.sk-dashed-wrapped {border: 1px dashed gray;margin: 0 0.4em 0.5em 0.4em;box-sizing: border-box;padding-bottom: 0.4em;background-color: white;}#sk-container-id-1 div.sk-label label {font-family: monospace;font-weight: bold;display: inline-block;line-height: 1.2em;}#sk-container-id-1 div.sk-label-container {text-align: center;}#sk-container-id-1 div.sk-container {/* jupyter's `normalize.less` sets `[hidden] { display: none; }` but bootstrap.min.css set `[hidden] { display: none !important; }` so we also need the `!important` here to be able to override the default hidden behavior on the sphinx rendered scikit-learn.org. See: https://github.com/scikit-learn/scikit-learn/issues/21755 */display: inline-block !important;position: relative;}#sk-container-id-1 div.sk-text-repr-fallback {display: none;}</style><div id=\"sk-container-id-1\" class=\"sk-top-container\"><div class=\"sk-text-repr-fallback\"><pre>RandomizedSearchCV(estimator=RandomForestRegressor(), n_jobs=-1,\n",
       "                   param_distributions={&#x27;bootstrap&#x27;: [True],\n",
       "                                        &#x27;max_depth&#x27;: range(1, 25),\n",
       "                                        &#x27;max_features&#x27;: [1.0, &#x27;sqrt&#x27;],\n",
       "                                        &#x27;min_samples_leaf&#x27;: range(1, 5),\n",
       "                                        &#x27;min_samples_split&#x27;: [2, 4, 8],\n",
       "                                        &#x27;n_estimators&#x27;: [50, 100, 200, 400,\n",
       "                                                         800]},\n",
       "                   random_state=42, verbose=2)</pre><b>In a Jupyter environment, please rerun this cell to show the HTML representation or trust the notebook. <br />On GitHub, the HTML representation is unable to render, please try loading this page with nbviewer.org.</b></div><div class=\"sk-container\" hidden><div class=\"sk-item sk-dashed-wrapped\"><div class=\"sk-label-container\"><div class=\"sk-label sk-toggleable\"><input class=\"sk-toggleable__control sk-hidden--visually\" id=\"sk-estimator-id-1\" type=\"checkbox\" ><label for=\"sk-estimator-id-1\" class=\"sk-toggleable__label sk-toggleable__label-arrow\">RandomizedSearchCV</label><div class=\"sk-toggleable__content\"><pre>RandomizedSearchCV(estimator=RandomForestRegressor(), n_jobs=-1,\n",
       "                   param_distributions={&#x27;bootstrap&#x27;: [True],\n",
       "                                        &#x27;max_depth&#x27;: range(1, 25),\n",
       "                                        &#x27;max_features&#x27;: [1.0, &#x27;sqrt&#x27;],\n",
       "                                        &#x27;min_samples_leaf&#x27;: range(1, 5),\n",
       "                                        &#x27;min_samples_split&#x27;: [2, 4, 8],\n",
       "                                        &#x27;n_estimators&#x27;: [50, 100, 200, 400,\n",
       "                                                         800]},\n",
       "                   random_state=42, verbose=2)</pre></div></div></div><div class=\"sk-parallel\"><div class=\"sk-parallel-item\"><div class=\"sk-item\"><div class=\"sk-label-container\"><div class=\"sk-label sk-toggleable\"><input class=\"sk-toggleable__control sk-hidden--visually\" id=\"sk-estimator-id-2\" type=\"checkbox\" ><label for=\"sk-estimator-id-2\" class=\"sk-toggleable__label sk-toggleable__label-arrow\">estimator: RandomForestRegressor</label><div class=\"sk-toggleable__content\"><pre>RandomForestRegressor()</pre></div></div></div><div class=\"sk-serial\"><div class=\"sk-item\"><div class=\"sk-estimator sk-toggleable\"><input class=\"sk-toggleable__control sk-hidden--visually\" id=\"sk-estimator-id-3\" type=\"checkbox\" ><label for=\"sk-estimator-id-3\" class=\"sk-toggleable__label sk-toggleable__label-arrow\">RandomForestRegressor</label><div class=\"sk-toggleable__content\"><pre>RandomForestRegressor()</pre></div></div></div></div></div></div></div></div></div></div>"
      ],
      "text/plain": [
       "RandomizedSearchCV(estimator=RandomForestRegressor(), n_jobs=-1,\n",
       "                   param_distributions={'bootstrap': [True],\n",
       "                                        'max_depth': range(1, 25),\n",
       "                                        'max_features': [1.0, 'sqrt'],\n",
       "                                        'min_samples_leaf': range(1, 5),\n",
       "                                        'min_samples_split': [2, 4, 8],\n",
       "                                        'n_estimators': [50, 100, 200, 400,\n",
       "                                                         800]},\n",
       "                   random_state=42, verbose=2)"
      ]
     },
     "execution_count": 14,
     "metadata": {},
     "output_type": "execute_result"
    }
   ],
   "source": [
    "# Initiate a random search to tune the hyperparameters\n",
    "rf = RandomForestRegressor()\n",
    "rf_random = RandomizedSearchCV(estimator = rf, \n",
    "                               param_distributions = random_grid, n_iter = 10, \n",
    "                               verbose=2, random_state=42, n_jobs = -1)\n",
    "# Fit the model to the data\n",
    "rf_random.fit(X_train, y_train)"
   ]
  },
  {
   "cell_type": "code",
   "execution_count": 15,
   "id": "6fe6b05f",
   "metadata": {},
   "outputs": [
    {
     "name": "stdout",
     "output_type": "stream",
     "text": [
      "Test score:  0.64\n",
      "RMSE:  3.946\n",
      "MAE:  3.173\n"
     ]
    }
   ],
   "source": [
    "# Calculate the model's preformence\n",
    "test_score = rf_random.score(X_test, y_test)\n",
    "predictions = rf_random.predict(X_test)\n",
    "\n",
    "print(\"Test score: \", test_score.round(3))\n",
    "print(\"RMSE: \", mean_squared_error(y_test, predictions, squared=False).round(3))\n",
    "print(\"MAE: \", mean_absolute_error(y_test, predictions).round(3))"
   ]
  },
  {
   "cell_type": "code",
   "execution_count": null,
   "id": "49e4718e",
   "metadata": {},
   "outputs": [],
   "source": []
  }
 ],
 "metadata": {
  "kernelspec": {
   "display_name": "Python 3 (ipykernel)",
   "language": "python",
   "name": "python3"
  },
  "language_info": {
   "codemirror_mode": {
    "name": "ipython",
    "version": 3
   },
   "file_extension": ".py",
   "mimetype": "text/x-python",
   "name": "python",
   "nbconvert_exporter": "python",
   "pygments_lexer": "ipython3",
   "version": "3.9.15"
  }
 },
 "nbformat": 4,
 "nbformat_minor": 5
}
