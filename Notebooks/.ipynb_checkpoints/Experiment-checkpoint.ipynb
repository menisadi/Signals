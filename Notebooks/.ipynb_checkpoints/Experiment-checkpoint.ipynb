{
 "cells": [
  {
   "cell_type": "code",
   "execution_count": 1,
   "id": "93cea2c4",
   "metadata": {},
   "outputs": [],
   "source": [
    "import numpy as np\n",
    "import pandas as pd\n",
    "import matplotlib.pyplot as plt\n",
    "import seaborn as sns\n",
    "%matplotlib inline"
   ]
  },
  {
   "cell_type": "code",
   "execution_count": 3,
   "id": "941696fd",
   "metadata": {},
   "outputs": [],
   "source": [
    "signals_typed = pd.read_csv('../Data/signals_from_all_ant_types.csv')\n",
    "signals = pd.read_csv(\"../Data/cellular_signals.csv\")\n",
    "antennas = pd.read_csv(\"../Data/antennas.csv\")"
   ]
  },
  {
   "cell_type": "code",
   "execution_count": 4,
   "id": "127147e0",
   "metadata": {},
   "outputs": [
    {
     "name": "stdout",
     "output_type": "stream",
     "text": [
      "<class 'pandas.core.frame.DataFrame'>\n",
      "RangeIndex: 5000 entries, 0 to 4999\n",
      "Data columns (total 8 columns):\n",
      " #   Column      Non-Null Count  Dtype  \n",
      "---  ------      --------------  -----  \n",
      " 0   Unnamed: 0  5000 non-null   int64  \n",
      " 1   id          5000 non-null   float64\n",
      " 2   signal_A    5000 non-null   float64\n",
      " 3   signal_B    5000 non-null   float64\n",
      " 4   signal_C    5000 non-null   float64\n",
      " 5   signal_D    5000 non-null   float64\n",
      " 6   Latitude    5000 non-null   float64\n",
      " 7   Longitude   5000 non-null   float64\n",
      "dtypes: float64(7), int64(1)\n",
      "memory usage: 312.6 KB\n"
     ]
    }
   ],
   "source": [
    "signals_typed.info()"
   ]
  },
  {
   "cell_type": "code",
   "execution_count": 5,
   "id": "2b4ad53a",
   "metadata": {},
   "outputs": [
    {
     "data": {
      "text/html": [
       "<div>\n",
       "<style scoped>\n",
       "    .dataframe tbody tr th:only-of-type {\n",
       "        vertical-align: middle;\n",
       "    }\n",
       "\n",
       "    .dataframe tbody tr th {\n",
       "        vertical-align: top;\n",
       "    }\n",
       "\n",
       "    .dataframe thead th {\n",
       "        text-align: right;\n",
       "    }\n",
       "</style>\n",
       "<table border=\"1\" class=\"dataframe\">\n",
       "  <thead>\n",
       "    <tr style=\"text-align: right;\">\n",
       "      <th></th>\n",
       "      <th>Unnamed: 0</th>\n",
       "      <th>id</th>\n",
       "      <th>signal_A</th>\n",
       "      <th>signal_B</th>\n",
       "      <th>signal_C</th>\n",
       "      <th>signal_D</th>\n",
       "      <th>Latitude</th>\n",
       "      <th>Longitude</th>\n",
       "    </tr>\n",
       "  </thead>\n",
       "  <tbody>\n",
       "    <tr>\n",
       "      <th>0</th>\n",
       "      <td>0</td>\n",
       "      <td>0.0</td>\n",
       "      <td>49.109521</td>\n",
       "      <td>55.069157</td>\n",
       "      <td>79.509987</td>\n",
       "      <td>88.608880</td>\n",
       "      <td>30.008101</td>\n",
       "      <td>70.013081</td>\n",
       "    </tr>\n",
       "    <tr>\n",
       "      <th>1</th>\n",
       "      <td>1</td>\n",
       "      <td>1.0</td>\n",
       "      <td>52.283605</td>\n",
       "      <td>50.920503</td>\n",
       "      <td>53.831158</td>\n",
       "      <td>68.534333</td>\n",
       "      <td>30.021438</td>\n",
       "      <td>70.006084</td>\n",
       "    </tr>\n",
       "    <tr>\n",
       "      <th>2</th>\n",
       "      <td>2</td>\n",
       "      <td>2.0</td>\n",
       "      <td>37.508603</td>\n",
       "      <td>55.302905</td>\n",
       "      <td>76.784777</td>\n",
       "      <td>71.815223</td>\n",
       "      <td>30.026115</td>\n",
       "      <td>70.001703</td>\n",
       "    </tr>\n",
       "    <tr>\n",
       "      <th>3</th>\n",
       "      <td>3</td>\n",
       "      <td>3.0</td>\n",
       "      <td>77.077300</td>\n",
       "      <td>47.777443</td>\n",
       "      <td>54.933087</td>\n",
       "      <td>58.560224</td>\n",
       "      <td>30.019904</td>\n",
       "      <td>70.019280</td>\n",
       "    </tr>\n",
       "    <tr>\n",
       "      <th>4</th>\n",
       "      <td>4</td>\n",
       "      <td>4.0</td>\n",
       "      <td>40.002055</td>\n",
       "      <td>46.521994</td>\n",
       "      <td>75.083956</td>\n",
       "      <td>64.513483</td>\n",
       "      <td>30.020316</td>\n",
       "      <td>70.016941</td>\n",
       "    </tr>\n",
       "  </tbody>\n",
       "</table>\n",
       "</div>"
      ],
      "text/plain": [
       "   Unnamed: 0   id   signal_A   signal_B   signal_C   signal_D   Latitude  \\\n",
       "0           0  0.0  49.109521  55.069157  79.509987  88.608880  30.008101   \n",
       "1           1  1.0  52.283605  50.920503  53.831158  68.534333  30.021438   \n",
       "2           2  2.0  37.508603  55.302905  76.784777  71.815223  30.026115   \n",
       "3           3  3.0  77.077300  47.777443  54.933087  58.560224  30.019904   \n",
       "4           4  4.0  40.002055  46.521994  75.083956  64.513483  30.020316   \n",
       "\n",
       "   Longitude  \n",
       "0  70.013081  \n",
       "1  70.006084  \n",
       "2  70.001703  \n",
       "3  70.019280  \n",
       "4  70.016941  "
      ]
     },
     "execution_count": 5,
     "metadata": {},
     "output_type": "execute_result"
    }
   ],
   "source": [
    "signals_typed.head()"
   ]
  },
  {
   "cell_type": "code",
   "execution_count": 10,
   "id": "84070890",
   "metadata": {},
   "outputs": [
    {
     "data": {
      "text/plain": [
       "array([88.60888025, 70.00608436, 76.78477722, ..., 85.96534818,\n",
       "       77.71221256, 78.12037102])"
      ]
     },
     "execution_count": 10,
     "metadata": {},
     "output_type": "execute_result"
    }
   ],
   "source": [
    "signals_typed.drop(['Unnamed: 0', 'id'], axis=1).to_numpy().max(axis=1)"
   ]
  },
  {
   "cell_type": "code",
   "execution_count": 12,
   "id": "719caf89",
   "metadata": {},
   "outputs": [
    {
     "data": {
      "text/html": [
       "<div>\n",
       "<style scoped>\n",
       "    .dataframe tbody tr th:only-of-type {\n",
       "        vertical-align: middle;\n",
       "    }\n",
       "\n",
       "    .dataframe tbody tr th {\n",
       "        vertical-align: top;\n",
       "    }\n",
       "\n",
       "    .dataframe thead th {\n",
       "        text-align: right;\n",
       "    }\n",
       "</style>\n",
       "<table border=\"1\" class=\"dataframe\">\n",
       "  <thead>\n",
       "    <tr style=\"text-align: right;\">\n",
       "      <th></th>\n",
       "      <th>Latitude</th>\n",
       "      <th>Longitude</th>\n",
       "      <th>id</th>\n",
       "      <th>signal</th>\n",
       "    </tr>\n",
       "  </thead>\n",
       "  <tbody>\n",
       "    <tr>\n",
       "      <th>0</th>\n",
       "      <td>30.008101</td>\n",
       "      <td>70.013081</td>\n",
       "      <td>0.0</td>\n",
       "      <td>92.914916</td>\n",
       "    </tr>\n",
       "    <tr>\n",
       "      <th>1</th>\n",
       "      <td>30.021438</td>\n",
       "      <td>70.006084</td>\n",
       "      <td>1.0</td>\n",
       "      <td>74.490463</td>\n",
       "    </tr>\n",
       "    <tr>\n",
       "      <th>2</th>\n",
       "      <td>30.026115</td>\n",
       "      <td>70.001703</td>\n",
       "      <td>2.0</td>\n",
       "      <td>82.225067</td>\n",
       "    </tr>\n",
       "    <tr>\n",
       "      <th>3</th>\n",
       "      <td>30.019904</td>\n",
       "      <td>70.019280</td>\n",
       "      <td>3.0</td>\n",
       "      <td>86.279247</td>\n",
       "    </tr>\n",
       "    <tr>\n",
       "      <th>4</th>\n",
       "      <td>30.020316</td>\n",
       "      <td>70.016941</td>\n",
       "      <td>4.0</td>\n",
       "      <td>78.450492</td>\n",
       "    </tr>\n",
       "  </tbody>\n",
       "</table>\n",
       "</div>"
      ],
      "text/plain": [
       "    Latitude  Longitude   id     signal\n",
       "0  30.008101  70.013081  0.0  92.914916\n",
       "1  30.021438  70.006084  1.0  74.490463\n",
       "2  30.026115  70.001703  2.0  82.225067\n",
       "3  30.019904  70.019280  3.0  86.279247\n",
       "4  30.020316  70.016941  4.0  78.450492"
      ]
     },
     "execution_count": 12,
     "metadata": {},
     "output_type": "execute_result"
    }
   ],
   "source": [
    "color_type = {'A':1, 'B':2, 'C':3, 'D':4}\n",
    "ax = signals_data.plot(kind=\"hexbin\", x='Latitude', y='Longitude', C='signal', \n",
    "                       gridsize=30, colormap='RdYlGn', colorbar=True, alpha=0.8)\n",
    "antennas_data.plot(kind='scatter', x='Latitude', y='Longitude', s=10, edgecolors='Black', \n",
    "                   linewidth=0.5, c=antennas_data['type'].map(color_type), colormap='Blues', ax=ax)"
   ]
  },
  {
   "cell_type": "code",
   "execution_count": null,
   "id": "4a709fa6",
   "metadata": {},
   "outputs": [],
   "source": []
  }
 ],
 "metadata": {
  "kernelspec": {
   "display_name": "Python 3 (ipykernel)",
   "language": "python",
   "name": "python3"
  },
  "language_info": {
   "codemirror_mode": {
    "name": "ipython",
    "version": 3
   },
   "file_extension": ".py",
   "mimetype": "text/x-python",
   "name": "python",
   "nbconvert_exporter": "python",
   "pygments_lexer": "ipython3",
   "version": "3.9.15"
  }
 },
 "nbformat": 4,
 "nbformat_minor": 5
}
